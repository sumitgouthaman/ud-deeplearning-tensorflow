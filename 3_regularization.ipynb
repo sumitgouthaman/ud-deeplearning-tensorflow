{
 "cells": [
  {
   "cell_type": "markdown",
   "metadata": {
    "colab_type": "text",
    "id": "kR-4eNdK6lYS"
   },
   "source": [
    "Deep Learning\n",
    "=============\n",
    "\n",
    "Assignment 3\n",
    "------------\n",
    "\n",
    "Previously in `2_fullyconnected.ipynb`, you trained a logistic regression and a neural network model.\n",
    "\n",
    "The goal of this assignment is to explore regularization techniques."
   ]
  },
  {
   "cell_type": "code",
   "execution_count": 1,
   "metadata": {
    "cellView": "both",
    "colab": {
     "autoexec": {
      "startup": false,
      "wait_interval": 0
     }
    },
    "colab_type": "code",
    "collapsed": false,
    "id": "JLpLa8Jt7Vu4"
   },
   "outputs": [],
   "source": [
    "# These are all the modules we'll be using later. Make sure you can import them\n",
    "# before proceeding further.\n",
    "from __future__ import print_function\n",
    "import numpy as np\n",
    "import tensorflow as tf\n",
    "from six.moves import cPickle as pickle\n",
    "from matplotlib import pyplot as plt\n",
    "%matplotlib inline"
   ]
  },
  {
   "cell_type": "markdown",
   "metadata": {
    "colab_type": "text",
    "id": "1HrCK6e17WzV"
   },
   "source": [
    "First reload the data we generated in `1_notmnist.ipynb`."
   ]
  },
  {
   "cell_type": "code",
   "execution_count": 2,
   "metadata": {
    "cellView": "both",
    "colab": {
     "autoexec": {
      "startup": false,
      "wait_interval": 0
     },
     "output_extras": [
      {
       "item_id": 1
      }
     ]
    },
    "colab_type": "code",
    "collapsed": false,
    "executionInfo": {
     "elapsed": 11777,
     "status": "ok",
     "timestamp": 1449849322348,
     "user": {
      "color": "",
      "displayName": "",
      "isAnonymous": false,
      "isMe": true,
      "permissionId": "",
      "photoUrl": "",
      "sessionId": "0",
      "userId": ""
     },
     "user_tz": 480
    },
    "id": "y3-cj1bpmuxc",
    "outputId": "e03576f1-ebbe-4838-c388-f1777bcc9873"
   },
   "outputs": [
    {
     "name": "stdout",
     "output_type": "stream",
     "text": [
      "Training set (200000, 28, 28) (200000,)\n",
      "Validation set (10000, 28, 28) (10000,)\n",
      "Test set (10000, 28, 28) (10000,)\n"
     ]
    }
   ],
   "source": [
    "pickle_file = 'notMNIST.pickle'\n",
    "\n",
    "with open(pickle_file, 'rb') as f:\n",
    "  save = pickle.load(f)\n",
    "  train_dataset = save['train_dataset']\n",
    "  train_labels = save['train_labels']\n",
    "  valid_dataset = save['valid_dataset']\n",
    "  valid_labels = save['valid_labels']\n",
    "  test_dataset = save['test_dataset']\n",
    "  test_labels = save['test_labels']\n",
    "  del save  # hint to help gc free up memory\n",
    "  print('Training set', train_dataset.shape, train_labels.shape)\n",
    "  print('Validation set', valid_dataset.shape, valid_labels.shape)\n",
    "  print('Test set', test_dataset.shape, test_labels.shape)"
   ]
  },
  {
   "cell_type": "markdown",
   "metadata": {
    "colab_type": "text",
    "id": "L7aHrm6nGDMB"
   },
   "source": [
    "Reformat into a shape that's more adapted to the models we're going to train:\n",
    "- data as a flat matrix,\n",
    "- labels as float 1-hot encodings."
   ]
  },
  {
   "cell_type": "code",
   "execution_count": 3,
   "metadata": {
    "cellView": "both",
    "colab": {
     "autoexec": {
      "startup": false,
      "wait_interval": 0
     },
     "output_extras": [
      {
       "item_id": 1
      }
     ]
    },
    "colab_type": "code",
    "collapsed": false,
    "executionInfo": {
     "elapsed": 11728,
     "status": "ok",
     "timestamp": 1449849322356,
     "user": {
      "color": "",
      "displayName": "",
      "isAnonymous": false,
      "isMe": true,
      "permissionId": "",
      "photoUrl": "",
      "sessionId": "0",
      "userId": ""
     },
     "user_tz": 480
    },
    "id": "IRSyYiIIGIzS",
    "outputId": "3f8996ee-3574-4f44-c953-5c8a04636582"
   },
   "outputs": [
    {
     "name": "stdout",
     "output_type": "stream",
     "text": [
      "Training set (200000, 784) (200000, 10)\n",
      "Validation set (10000, 784) (10000, 10)\n",
      "Test set (10000, 784) (10000, 10)\n"
     ]
    }
   ],
   "source": [
    "image_size = 28\n",
    "num_labels = 10\n",
    "\n",
    "def reformat(dataset, labels):\n",
    "  dataset = dataset.reshape((-1, image_size * image_size)).astype(np.float32)\n",
    "  # Map 1 to [0.0, 1.0, 0.0 ...], 2 to [0.0, 0.0, 1.0 ...]\n",
    "  labels = (np.arange(num_labels) == labels[:,None]).astype(np.float32)\n",
    "  return dataset, labels\n",
    "train_dataset, train_labels = reformat(train_dataset, train_labels)\n",
    "valid_dataset, valid_labels = reformat(valid_dataset, valid_labels)\n",
    "test_dataset, test_labels = reformat(test_dataset, test_labels)\n",
    "print('Training set', train_dataset.shape, train_labels.shape)\n",
    "print('Validation set', valid_dataset.shape, valid_labels.shape)\n",
    "print('Test set', test_dataset.shape, test_labels.shape)"
   ]
  },
  {
   "cell_type": "code",
   "execution_count": 4,
   "metadata": {
    "cellView": "both",
    "colab": {
     "autoexec": {
      "startup": false,
      "wait_interval": 0
     }
    },
    "colab_type": "code",
    "collapsed": true,
    "id": "RajPLaL_ZW6w"
   },
   "outputs": [],
   "source": [
    "def accuracy(predictions, labels):\n",
    "  return (100.0 * np.sum(np.argmax(predictions, 1) == np.argmax(labels, 1))\n",
    "          / predictions.shape[0])"
   ]
  },
  {
   "cell_type": "markdown",
   "metadata": {
    "colab_type": "text",
    "id": "sgLbUAQ1CW-1"
   },
   "source": [
    "---\n",
    "Problem 1\n",
    "---------\n",
    "\n",
    "Introduce and tune L2 regularization for both logistic and neural network models. Remember that L2 amounts to adding a penalty on the norm of the weights to the loss. In TensorFlow, you can compute the L2 loss for a tensor `t` using `nn.l2_loss(t)`. The right amount of regularization should improve your validation / test accuracy.\n",
    "\n",
    "---"
   ]
  },
  {
   "cell_type": "code",
   "execution_count": 5,
   "metadata": {
    "collapsed": false
   },
   "outputs": [],
   "source": [
    "batch_size = 256\n",
    "hidden_layer_size = 1024\n",
    "learning_rate = 0.5\n",
    "l2_regularization_penalty = 0.001\n",
    "\n",
    "graph = tf.Graph()\n",
    "with graph.as_default():\n",
    "    tf_train_dataset = tf.placeholder(dtype=tf.float32, shape=(batch_size, image_size * image_size))\n",
    "    tf_train_labels = tf.placeholder(dtype=tf.float32, shape=(batch_size, num_labels))\n",
    "    tf_valid_dataset = tf.constant(valid_dataset)\n",
    "    tf_test_dataset = tf.constant(test_dataset)\n",
    "    \n",
    "    # First hidden layer\n",
    "    with tf.name_scope(\"hidden1\"):\n",
    "        weights = tf.Variable(tf.truncated_normal((image_size * image_size, hidden_layer_size)))\n",
    "        biases = tf.Variable(tf.zeros(hidden_layer_size))\n",
    "        hidden_layer_dict = {\"weights\": weights, \"biases\": biases}\n",
    "        \n",
    "    # Logits layer\n",
    "    with tf.name_scope(\"logits\"):\n",
    "        weights = tf.Variable(tf.truncated_normal((hidden_layer_size, num_labels)))\n",
    "        biases = tf.Variable(tf.zeros(num_labels))\n",
    "        logits_layer_dict = {\"weights\": weights, \"biases\": biases}\n",
    "        \n",
    "    def forward_prop(X):\n",
    "        hidden_activation = tf.nn.relu(tf.matmul(X, hidden_layer_dict[\"weights\"]) + hidden_layer_dict[\"biases\"])\n",
    "        logits_output = tf.matmul(hidden_activation, logits_layer_dict[\"weights\"]) + logits_layer_dict[\"biases\"]\n",
    "        return logits_output\n",
    "        \n",
    "    unregularized_loss = tf.reduce_mean(tf.nn.softmax_cross_entropy_with_logits(forward_prop(tf_train_dataset), tf_train_labels))\n",
    "    \n",
    "    l2_loss = l2_regularization_penalty * (tf.nn.l2_loss(hidden_layer_dict[\"weights\"]) + tf.nn.l2_loss(logits_layer_dict[\"weights\"]))\n",
    "    \n",
    "    loss = unregularized_loss + l2_loss\n",
    "    \n",
    "    optimizer = tf.train.GradientDescentOptimizer(learning_rate).minimize(loss)\n",
    "    \n",
    "    #predictions\n",
    "    train_prediction = tf.nn.softmax(forward_prop(tf_train_dataset))\n",
    "    valid_prediction = tf.nn.softmax(forward_prop(tf_valid_dataset))\n",
    "    test_prediction = tf.nn.softmax(forward_prop(tf_test_dataset))"
   ]
  },
  {
   "cell_type": "code",
   "execution_count": 6,
   "metadata": {
    "collapsed": false
   },
   "outputs": [
    {
     "name": "stdout",
     "output_type": "stream",
     "text": [
      "Completed 0 steps\n",
      "Completed 10000 steps\n",
      "Completed 20000 steps\n",
      "Completed 30000 steps\n",
      "Completed 40000 steps\n",
      "Completed 50000 steps\n",
      "Completed 60000 steps\n",
      "Completed 70000 steps\n",
      "Completed 80000 steps\n",
      "Completed 90000 steps\n",
      "Test Accuracy: 95.0\n"
     ]
    },
    {
     "data": {
      "image/png": "[encoded data removed]",
      "text/plain": [
       "<matplotlib.figure.Figure at 0x11fc96a3da0>"
      ]
     },
     "metadata": {},
     "output_type": "display_data"
    }
   ],
   "source": [
    "steps = 100000\n",
    "losses = []\n",
    "acc = []\n",
    "valid_acc = []\n",
    "graph_step = 100\n",
    "print_step = 10000\n",
    "\n",
    "with tf.Session(graph=graph) as session:\n",
    "    tf.global_variables_initializer().run()\n",
    "    for step in range(steps):\n",
    "        offset = (step * batch_size) % (train_labels.shape[0] - batch_size)\n",
    "        batch_data = train_dataset[offset:(offset + batch_size), :]\n",
    "        batch_labels = train_labels[offset:(offset + batch_size), :]\n",
    "        feed_dict = {tf_train_dataset: batch_data, tf_train_labels: batch_labels}\n",
    "        _, l, predictions = session.run([optimizer, loss, train_prediction], feed_dict = feed_dict)\n",
    "        \n",
    "        if (step % graph_step == 0):\n",
    "            losses.append(l)\n",
    "            acc.append(accuracy(predictions, batch_labels))\n",
    "            valid_acc.append(accuracy(valid_prediction.eval(), valid_labels))\n",
    "        \n",
    "        if (step % print_step == 0):\n",
    "            print(\"Completed {} steps\".format(step))\n",
    "    \n",
    "    print(\"Test Accuracy: {}\".format(accuracy(test_prediction.eval(), test_labels)))\n",
    "\n",
    "plt.plot(range(0, steps, graph_step), acc)\n",
    "plt.plot(range(0, steps, graph_step), valid_acc)\n",
    "plt.legend([\"Training accuracy\", \"Validation accuracy\"])\n",
    "plt.show()"
   ]
  },
  {
   "cell_type": "markdown",
   "metadata": {
    "colab_type": "text",
    "id": "na8xX2yHZzNF"
   },
   "source": [
    "---\n",
    "Problem 2\n",
    "---------\n",
    "Let's demonstrate an extreme case of overfitting. Restrict your training data to just a few batches. What happens?\n",
    "\n",
    "---"
   ]
  },
  {
   "cell_type": "code",
   "execution_count": 7,
   "metadata": {
    "collapsed": false
   },
   "outputs": [
    {
     "name": "stdout",
     "output_type": "stream",
     "text": [
      "Completed 0 steps\n",
      "Completed 10000 steps\n",
      "Test Accuracy: 89.01\n"
     ]
    },
    {
     "data": {
      "image/png": "[encoded data removed]",
      "text/plain": [
       "<matplotlib.figure.Figure at 0x11fcdf5aef0>"
      ]
     },
     "metadata": {},
     "output_type": "display_data"
    }
   ],
   "source": [
    "# Uses same graph as Problem 1\n",
    "\n",
    "steps = 20000\n",
    "losses = []\n",
    "acc = []\n",
    "valid_acc = []\n",
    "graph_step = 100\n",
    "print_step = 10000\n",
    "\n",
    "restrict_to_batches = 10\n",
    "\n",
    "with tf.Session(graph=graph) as session:\n",
    "    tf.global_variables_initializer().run()\n",
    "    for step in range(steps):\n",
    "        offset = ((step % restrict_to_batches) * batch_size) % (train_labels.shape[0] - batch_size)\n",
    "        batch_data = train_dataset[offset:(offset + batch_size), :]\n",
    "        batch_labels = train_labels[offset:(offset + batch_size), :]\n",
    "        feed_dict = {tf_train_dataset: batch_data, tf_train_labels: batch_labels}\n",
    "        _, l, predictions = session.run([optimizer, loss, train_prediction], feed_dict = feed_dict)\n",
    "        \n",
    "        if (step % graph_step == 0):\n",
    "            losses.append(l)\n",
    "            acc.append(accuracy(predictions, batch_labels))\n",
    "            valid_acc.append(accuracy(valid_prediction.eval(), valid_labels))\n",
    "        \n",
    "        if (step % print_step == 0):\n",
    "            print(\"Completed {} steps\".format(step))\n",
    "    \n",
    "    print(\"Test Accuracy: {}\".format(accuracy(test_prediction.eval(), test_labels)))\n",
    "\n",
    "plt.plot(range(0, steps, graph_step), acc)\n",
    "plt.plot(range(0, steps, graph_step), valid_acc)\n",
    "plt.legend([\"Training accuracy\", \"Validation accuracy\"])\n",
    "plt.show()"
   ]
  },
  {
   "cell_type": "markdown",
   "metadata": {
    "colab_type": "text",
    "id": "ww3SCBUdlkRc"
   },
   "source": [
    "---\n",
    "Problem 3\n",
    "---------\n",
    "Introduce Dropout on the hidden layer of the neural network. Remember: Dropout should only be introduced during training, not evaluation, otherwise your evaluation results would be stochastic as well. TensorFlow provides `nn.dropout()` for that, but you have to make sure it's only inserted during training.\n",
    "\n",
    "What happens to our extreme overfitting case?\n",
    "\n",
    "---"
   ]
  },
  {
   "cell_type": "code",
   "execution_count": 8,
   "metadata": {
    "collapsed": true
   },
   "outputs": [],
   "source": [
    "batch_size = 256\n",
    "hidden_layer_size = 1024\n",
    "learning_rate = 0.5\n",
    "l2_regularization_penalty = 0.001\n",
    "\n",
    "graph = tf.Graph()\n",
    "with graph.as_default():\n",
    "    tf_train_dataset = tf.placeholder(dtype=tf.float32, shape=(batch_size, image_size * image_size))\n",
    "    tf_train_labels = tf.placeholder(dtype=tf.float32, shape=(batch_size, num_labels))\n",
    "    tf_valid_dataset = tf.constant(valid_dataset)\n",
    "    tf_test_dataset = tf.constant(test_dataset)\n",
    "    \n",
    "    # First hidden layer\n",
    "    with tf.name_scope(\"hidden1\"):\n",
    "        weights = tf.Variable(tf.truncated_normal((image_size * image_size, hidden_layer_size)))\n",
    "        biases = tf.Variable(tf.zeros(hidden_layer_size))\n",
    "        hidden_layer_dict = {\"weights\": weights, \"biases\": biases}\n",
    "        \n",
    "    # Logits layer\n",
    "    with tf.name_scope(\"logits\"):\n",
    "        weights = tf.Variable(tf.truncated_normal((hidden_layer_size, num_labels)))\n",
    "        biases = tf.Variable(tf.zeros(num_labels))\n",
    "        logits_layer_dict = {\"weights\": weights, \"biases\": biases}\n",
    "        \n",
    "    def forward_prop(X):\n",
    "        hidden_activation = tf.nn.relu(tf.matmul(X, hidden_layer_dict[\"weights\"]) + hidden_layer_dict[\"biases\"])\n",
    "        logits_output = tf.matmul(hidden_activation, logits_layer_dict[\"weights\"]) + logits_layer_dict[\"biases\"]\n",
    "        return tf.nn.dropout(logits_output, 0.4)\n",
    "    \n",
    "    def forward_prop_no_dropout(X):\n",
    "        hidden_activation = tf.nn.relu(tf.matmul(X, hidden_layer_dict[\"weights\"]) + hidden_layer_dict[\"biases\"])\n",
    "        logits_output = tf.matmul(hidden_activation, logits_layer_dict[\"weights\"]) + logits_layer_dict[\"biases\"]\n",
    "        return logits_output\n",
    "        \n",
    "    unregularized_loss = tf.reduce_mean(tf.nn.softmax_cross_entropy_with_logits(forward_prop(tf_train_dataset), tf_train_labels))\n",
    "    \n",
    "    l2_loss = l2_regularization_penalty * (tf.nn.l2_loss(hidden_layer_dict[\"weights\"]) + tf.nn.l2_loss(logits_layer_dict[\"weights\"]))\n",
    "    \n",
    "    loss = unregularized_loss + l2_loss\n",
    "    \n",
    "    optimizer = tf.train.GradientDescentOptimizer(learning_rate).minimize(loss)\n",
    "    \n",
    "    #predictions\n",
    "    train_prediction = tf.nn.softmax(forward_prop_no_dropout(tf_train_dataset))\n",
    "    valid_prediction = tf.nn.softmax(forward_prop_no_dropout(tf_valid_dataset))\n",
    "    test_prediction = tf.nn.softmax(forward_prop_no_dropout(tf_test_dataset))"
   ]
  },
  {
   "cell_type": "code",
   "execution_count": 9,
   "metadata": {
    "collapsed": false
   },
   "outputs": [
    {
     "name": "stdout",
     "output_type": "stream",
     "text": [
      "Completed 0 steps\n",
      "Completed 10000 steps\n",
      "Completed 20000 steps\n",
      "Completed 30000 steps\n",
      "Completed 40000 steps\n",
      "Completed 50000 steps\n",
      "Completed 60000 steps\n",
      "Completed 70000 steps\n",
      "Completed 80000 steps\n",
      "Completed 90000 steps\n",
      "Test Accuracy: 93.93\n"
     ]
    },
    {
     "data": {
      "image/png": "[encoded data removed]",
      "text/plain": [
       "<matplotlib.figure.Figure at 0x11fb52ec048>"
      ]
     },
     "metadata": {},
     "output_type": "display_data"
    }
   ],
   "source": [
    "steps = 100000\n",
    "losses = []\n",
    "acc = []\n",
    "valid_acc = []\n",
    "graph_step = 100\n",
    "print_step = 10000\n",
    "\n",
    "with tf.Session(graph=graph) as session:\n",
    "    tf.global_variables_initializer().run()\n",
    "    for step in range(steps):\n",
    "        offset = (step * batch_size) % (train_labels.shape[0] - batch_size)\n",
    "        batch_data = train_dataset[offset:(offset + batch_size), :]\n",
    "        batch_labels = train_labels[offset:(offset + batch_size), :]\n",
    "        feed_dict = {tf_train_dataset: batch_data, tf_train_labels: batch_labels}\n",
    "        _, l, predictions = session.run([optimizer, loss, train_prediction], feed_dict = feed_dict)\n",
    "        \n",
    "        if (step % graph_step == 0):\n",
    "            losses.append(l)\n",
    "            acc.append(accuracy(predictions, batch_labels))\n",
    "            valid_acc.append(accuracy(valid_prediction.eval(), valid_labels))\n",
    "        \n",
    "        if (step % print_step == 0):\n",
    "            print(\"Completed {} steps\".format(step))\n",
    "    \n",
    "    print(\"Test Accuracy: {}\".format(accuracy(test_prediction.eval(), test_labels)))\n",
    "\n",
    "plt.plot(range(0, steps, graph_step), acc)\n",
    "plt.plot(range(0, steps, graph_step), valid_acc)\n",
    "plt.legend([\"Training accuracy\", \"Validation accuracy\"])\n",
    "plt.show()"
   ]
  },
  {
   "cell_type": "markdown",
   "metadata": {},
   "source": [
    "Testing over-fitting scenario"
   ]
  },
  {
   "cell_type": "code",
   "execution_count": 10,
   "metadata": {
    "collapsed": false
   },
   "outputs": [
    {
     "name": "stdout",
     "output_type": "stream",
     "text": [
      "Completed 0 steps\n",
      "Completed 10000 steps\n",
      "Test Accuracy: 91.72\n"
     ]
    },
    {
     "data": {
      "image/png": "[encoded data removed]",
      "text/plain": [
       "<matplotlib.figure.Figure at 0x11fb5b0b048>"
      ]
     },
     "metadata": {},
     "output_type": "display_data"
    }
   ],
   "source": [
    "# Uses same graph\n",
    "\n",
    "steps = 20000\n",
    "losses = []\n",
    "acc = []\n",
    "valid_acc = []\n",
    "graph_step = 100\n",
    "print_step = 10000\n",
    "\n",
    "restrict_to_batches = 50\n",
    "\n",
    "with tf.Session(graph=graph) as session:\n",
    "    tf.global_variables_initializer().run()\n",
    "    for step in range(steps):\n",
    "        offset = ((step % restrict_to_batches) * batch_size) % (train_labels.shape[0] - batch_size)\n",
    "        batch_data = train_dataset[offset:(offset + batch_size), :]\n",
    "        batch_labels = train_labels[offset:(offset + batch_size), :]\n",
    "        feed_dict = {tf_train_dataset: batch_data, tf_train_labels: batch_labels}\n",
    "        _, l, predictions = session.run([optimizer, loss, train_prediction], feed_dict = feed_dict)\n",
    "        \n",
    "        if (step % graph_step == 0):\n",
    "            losses.append(l)\n",
    "            acc.append(accuracy(predictions, batch_labels))\n",
    "            valid_acc.append(accuracy(valid_prediction.eval(), valid_labels))\n",
    "        \n",
    "        if (step % print_step == 0):\n",
    "            print(\"Completed {} steps\".format(step))\n",
    "    \n",
    "    print(\"Test Accuracy: {}\".format(accuracy(test_prediction.eval(), test_labels)))\n",
    "\n",
    "plt.plot(range(0, steps, graph_step), acc)\n",
    "plt.plot(range(0, steps, graph_step), valid_acc)\n",
    "plt.legend([\"Training accuracy\", \"Validation accuracy\"])\n",
    "plt.show()"
   ]
  },
  {
   "cell_type": "markdown",
   "metadata": {
    "colab_type": "text",
    "id": "-b1hTz3VWZjw"
   },
   "source": [
    "---\n",
    "Problem 4\n",
    "---------\n",
    "\n",
    "Try to get the best performance you can using a multi-layer model! The best reported test accuracy using a deep network is [97.1%](http://yaroslavvb.blogspot.com/2011/09/notmnist-dataset.html?showComment=1391023266211#c8758720086795711595).\n",
    "\n",
    "One avenue you can explore is to add multiple layers.\n",
    "\n",
    "Another one is to use learning rate decay:\n",
    "\n",
    "    global_step = tf.Variable(0)  # count the number of steps taken.\n",
    "    learning_rate = tf.train.exponential_decay(0.5, global_step, ...)\n",
    "    optimizer = tf.train.GradientDescentOptimizer(learning_rate).minimize(loss, global_step=global_step)\n",
    " \n",
    " ---\n"
   ]
  },
  {
   "cell_type": "code",
   "execution_count": 11,
   "metadata": {
    "collapsed": false
   },
   "outputs": [
    {
     "name": "stdout",
     "output_type": "stream",
     "text": [
      "Completed 0 steps\n",
      "Completed 10000 steps\n",
      "Completed 20000 steps\n",
      "Completed 30000 steps\n",
      "Completed 40000 steps\n",
      "Completed 50000 steps\n",
      "Completed 60000 steps\n",
      "Completed 70000 steps\n",
      "Completed 80000 steps\n",
      "Completed 90000 steps\n",
      "Test Accuracy: 94.27\n"
     ]
    },
    {
     "data": {
      "image/png": "[encoded data removed]",
      "text/plain": [
       "<matplotlib.figure.Figure at 0x11fb8de2ef0>"
      ]
     },
     "metadata": {},
     "output_type": "display_data"
    }
   ],
   "source": [
    "batch_size = 128\n",
    "hidden_layer_size = 1024\n",
    "learning_rate = 0.5\n",
    "l2_regularization_penalty = 0.001\n",
    "\n",
    "graph = tf.Graph()\n",
    "with graph.as_default():\n",
    "    tf_train_dataset = tf.placeholder(dtype=tf.float32, shape=(batch_size, image_size * image_size))\n",
    "    tf_train_labels = tf.placeholder(dtype=tf.float32, shape=(batch_size, num_labels))\n",
    "    tf_valid_dataset = tf.constant(valid_dataset)\n",
    "    tf_test_dataset = tf.constant(test_dataset)\n",
    "    \n",
    "    # First hidden layer\n",
    "    with tf.name_scope(\"hidden1\"):\n",
    "        weights = tf.Variable(tf.truncated_normal((image_size * image_size, hidden_layer_size)))\n",
    "        biases = tf.Variable(tf.zeros(hidden_layer_size))\n",
    "        hidden_layer_dict = {\"weights\": weights, \"biases\": biases}\n",
    "        \n",
    "    # Logits layer\n",
    "    with tf.name_scope(\"logits\"):\n",
    "        weights = tf.Variable(tf.truncated_normal((hidden_layer_size, num_labels)))\n",
    "        biases = tf.Variable(tf.zeros(num_labels))\n",
    "        logits_layer_dict = {\"weights\": weights, \"biases\": biases}\n",
    "        \n",
    "    def forward_prop(X):\n",
    "        hidden_activation = tf.nn.relu(tf.matmul(X, hidden_layer_dict[\"weights\"]) + hidden_layer_dict[\"biases\"])\n",
    "        logits_output = tf.matmul(hidden_activation, logits_layer_dict[\"weights\"]) + logits_layer_dict[\"biases\"]\n",
    "        return tf.nn.dropout(logits_output, 0.5)\n",
    "    \n",
    "    def forward_prop_no_dropout(X):\n",
    "        hidden_activation = tf.nn.relu(tf.matmul(X, hidden_layer_dict[\"weights\"]) + hidden_layer_dict[\"biases\"])\n",
    "        logits_output = tf.matmul(hidden_activation, logits_layer_dict[\"weights\"]) + logits_layer_dict[\"biases\"]\n",
    "        return logits_output\n",
    "        \n",
    "    unregularized_loss = tf.reduce_mean(tf.nn.softmax_cross_entropy_with_logits(forward_prop(tf_train_dataset), tf_train_labels))\n",
    "    \n",
    "    l2_loss = l2_regularization_penalty * (tf.nn.l2_loss(hidden_layer_dict[\"weights\"]) + tf.nn.l2_loss(logits_layer_dict[\"weights\"]))\n",
    "    \n",
    "    loss = unregularized_loss + l2_loss\n",
    "    \n",
    "    global_step = tf.Variable(0, trainable=False)\n",
    "    learning_rate = tf.train.exponential_decay(learning_rate, global_step,\n",
    "                                           5000, 0.96)\n",
    "    optimizer = tf.train.GradientDescentOptimizer(learning_rate).minimize(loss, global_step=global_step)\n",
    "    \n",
    "    #predictions\n",
    "    train_prediction = tf.nn.softmax(forward_prop_no_dropout(tf_train_dataset))\n",
    "    valid_prediction = tf.nn.softmax(forward_prop_no_dropout(tf_valid_dataset))\n",
    "    test_prediction = tf.nn.softmax(forward_prop_no_dropout(tf_test_dataset))\n",
    "    \n",
    "steps = 100000\n",
    "losses = []\n",
    "acc = []\n",
    "valid_acc = []\n",
    "graph_step = 100\n",
    "print_step = 10000\n",
    "\n",
    "with tf.Session(graph=graph) as session:\n",
    "    tf.global_variables_initializer().run()\n",
    "    for step in range(steps):\n",
    "        offset = (step * batch_size) % (train_labels.shape[0] - batch_size)\n",
    "        batch_data = train_dataset[offset:(offset + batch_size), :]\n",
    "        batch_labels = train_labels[offset:(offset + batch_size), :]\n",
    "        feed_dict = {tf_train_dataset: batch_data, tf_train_labels: batch_labels}\n",
    "        _, l, predictions = session.run([optimizer, loss, train_prediction], feed_dict = feed_dict)\n",
    "        \n",
    "        if (step % graph_step == 0):\n",
    "            losses.append(l)\n",
    "            acc.append(accuracy(predictions, batch_labels))\n",
    "            valid_acc.append(accuracy(valid_prediction.eval(), valid_labels))\n",
    "        \n",
    "        if (step % print_step == 0):\n",
    "            print(\"Completed {} steps\".format(step))\n",
    "    \n",
    "    print(\"Test Accuracy: {}\".format(accuracy(test_prediction.eval(), test_labels)))\n",
    "\n",
    "plt.plot(range(0, steps, graph_step), acc)\n",
    "plt.plot(range(0, steps, graph_step), valid_acc)\n",
    "plt.legend([\"Training accuracy\", \"Validation accuracy\"])\n",
    "plt.show()"
   ]
  }
 ],
 "metadata": {
  "colab": {
   "default_view": {},
   "name": "3_regularization.ipynb",
   "provenance": [],
   "version": "0.3.2",
   "views": {}
  },
  "kernelspec": {
   "display_name": "Python 3",
   "language": "python",
   "name": "python3"
  },
  "language_info": {
   "codemirror_mode": {
    "name": "ipython",
    "version": 3
   },
   "file_extension": ".py",
   "mimetype": "text/x-python",
   "name": "python",
   "nbconvert_exporter": "python",
   "pygments_lexer": "ipython3",
   "version": "3.5.2"
  }
 },
 "nbformat": 4,
 "nbformat_minor": 0
}
